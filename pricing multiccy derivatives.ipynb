{
 "cells": [
  {
   "cell_type": "code",
   "execution_count": 37,
   "metadata": {},
   "outputs": [],
   "source": [
    "import numpy as np\n",
    "from scipy.stats import norm,lognorm\n"
   ]
  },
  {
   "cell_type": "markdown",
   "metadata": {},
   "source": [
    "gaussian copula for simulation of correlated assets to price multi asset derivatives\n",
    "\n",
    "Let cor = correlation matrix.\n",
    "\n",
    "generate $(x_1,x_2,...x_n)$ = multivariate_normal(zeros(n),cor,size=no of simulations)\n",
    "\n",
    "transform each dimension $x_i$ using $asset_i = marginal^-1 (normal.cdf(x_i))$\n",
    "\n"
   ]
  },
  {
   "cell_type": "code",
   "execution_count": 38,
   "metadata": {},
   "outputs": [
    {
     "data": {
      "text/plain": [
       "(-3.375077994860476e-19,\n",
       " -9.237055564881302e-19,\n",
       " 1.000791265172991,\n",
       " 1.0035960671942024,\n",
       " array([[1.        , 0.30531643],\n",
       "        [0.30531643, 1.        ]]))"
      ]
     },
     "execution_count": 38,
     "metadata": {},
     "output_type": "execute_result"
    }
   ],
   "source": [
    "rho = 0.3\n",
    "cor = np.array([[1,rho],[rho,1]])\n",
    "X = np.random.multivariate_normal(np.zeros(2), cor,size=100000)\n",
    "# add -ve symmetric values for variance reduction\n",
    "X = np.vstack((X,-X))\n",
    "x0 = X[:,0]\n",
    "x1 = X[:,1]\n",
    "x0.mean(),x1.mean(),x0.std(),x1.std(),np.corrcoef(x0,x1)"
   ]
  },
  {
   "cell_type": "markdown",
   "metadata": {},
   "source": [
    "marginal distribiution function is simply derivative of call option price with correct smile\n",
    "We assume lognormal for simplicity\n",
    " \n",
    "we use scale = $fwd_i*exp(-0.5\\sigma_i^2t)$ and $s=\\sigma_i*\\sqrt{t}$ in the scipy lognorm distribution\n",
    "\n"
   ]
  },
  {
   "cell_type": "code",
   "execution_count": 39,
   "metadata": {},
   "outputs": [
    {
     "data": {
      "text/plain": [
       "(1.1300088024740786,\n",
       " 0.6900248437985322,\n",
       " 0.10007912651729911,\n",
       " 0.10035960671942022,\n",
       " array([[1.        , 0.30531643],\n",
       "        [0.30531643, 1.        ]]))"
      ]
     },
     "execution_count": 39,
     "metadata": {},
     "output_type": "execute_result"
    }
   ],
   "source": [
    "feurusd= 1.13\n",
    "veurusd = 0.1\n",
    "faudusd= 0.69\n",
    "vaudusd = 0.1\n",
    "t = 1\n",
    "# At this stage we should use the ppf of the marginal derived from the smile curve\n",
    "eurusd = lognorm.ppf(norm.cdf(x0),veurusd,0,(feurusd*np.exp(-0.5*veurusd**2)))\n",
    "audusd = lognorm.ppf(norm.cdf(x1),vaudusd,0,(faudusd*np.exp(-0.5*vaudusd**2)))\n",
    "eurusd.mean(),audusd.mean(),np.std(np.log(eurusd)),np.std(np.log(audusd)),\\\n",
    "np.corrcoef(np.log(eurusd),np.log(audusd))\n",
    "\n"
   ]
  },
  {
   "cell_type": "markdown",
   "metadata": {},
   "source": [
    "Now we have a joint simulation we can price a worst of or a dual digital"
   ]
  },
  {
   "cell_type": "code",
   "execution_count": 40,
   "metadata": {},
   "outputs": [
    {
     "data": {
      "text/plain": [
       "(0.007651947581397627, 0.03997192430892559, 0.03998276965849625)"
      ]
     },
     "execution_count": 40,
     "metadata": {},
     "output_type": "execute_result"
    }
   ],
   "source": [
    "wof = np.minimum(eurusd/1.13-1, 1- audusd/0.69)\n",
    "wof= np.maximum(wof,0)\n",
    "wofprice = np.sum(wof)/wof.shape[0]\n",
    "#apply correct discounting as needed\n",
    "wofprice,np.sum(np.maximum(eurusd/1.13-1,0))/eurusd.shape[0],\\\n",
    "    np.sum(np.maximum(1-audusd/0.69,0))/audusd.shape[0]\n"
   ]
  },
  {
   "cell_type": "raw",
   "metadata": {},
   "source": []
  },
  {
   "cell_type": "code",
   "execution_count": 41,
   "metadata": {},
   "outputs": [
    {
     "data": {
      "text/plain": [
       "0.3989423219002315"
      ]
     },
     "execution_count": 41,
     "metadata": {},
     "output_type": "execute_result"
    }
   ],
   "source": [
    "1/np.sqrt(2*3.141592)"
   ]
  },
  {
   "cell_type": "code",
   "execution_count": null,
   "metadata": {},
   "outputs": [],
   "source": []
  },
  {
   "cell_type": "code",
   "execution_count": null,
   "metadata": {},
   "outputs": [],
   "source": []
  }
 ],
 "metadata": {
  "kernelspec": {
   "display_name": "Python 3",
   "language": "python",
   "name": "python3"
  },
  "language_info": {
   "codemirror_mode": {
    "name": "ipython",
    "version": 3
   },
   "file_extension": ".py",
   "mimetype": "text/x-python",
   "name": "python",
   "nbconvert_exporter": "python",
   "pygments_lexer": "ipython3",
   "version": "3.6.9"
  }
 },
 "nbformat": 4,
 "nbformat_minor": 4
}
